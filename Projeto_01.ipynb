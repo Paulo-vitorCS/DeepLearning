{
  "nbformat": 4,
  "nbformat_minor": 0,
  "metadata": {
    "colab": {
      "name": "Projeto_01",
      "provenance": [],
      "collapsed_sections": [],
      "authorship_tag": "ABX9TyN9FsqRQ3DYz/RzjiQUC17/",
      "include_colab_link": true
    },
    "kernelspec": {
      "name": "python3",
      "display_name": "Python 3"
    },
    "language_info": {
      "name": "python"
    },
    "accelerator": "GPU"
  },
  "cells": [
    {
      "cell_type": "markdown",
      "metadata": {
        "id": "view-in-github",
        "colab_type": "text"
      },
      "source": [
        "<a href=\"https://colab.research.google.com/github/Paulo-vitorCS/DeepLearning/blob/main/Projeto_01.ipynb\" target=\"_parent\"><img src=\"https://colab.research.google.com/assets/colab-badge.svg\" alt=\"Open In Colab\"/></a>"
      ]
    },
    {
      "cell_type": "markdown",
      "metadata": {
        "id": "QzMx_TvkxVhL"
      },
      "source": [
        "#Projeto 01: Classificação Binária Breast Cancer"
      ]
    },
    {
      "cell_type": "markdown",
      "metadata": {
        "id": "l2mhwA3Hxqbx"
      },
      "source": [
        "###Etapa 01: Importação das bibliotecas"
      ]
    },
    {
      "cell_type": "code",
      "metadata": {
        "id": "Z2_g96Z6xLbr"
      },
      "source": [
        "import pandas as pd\n",
        "from sklearn.model_selection import train_test_split\n",
        "import numpy as np\n",
        "import seaborn as sns  # Biblioteca gráfica\n",
        "from sklearn.metrics import confusion_matrix, accuracy_score"
      ],
      "execution_count": null,
      "outputs": []
    },
    {
      "cell_type": "code",
      "metadata": {
        "colab": {
          "base_uri": "https://localhost:8080/"
        },
        "id": "wWXeyHr1ytFP",
        "outputId": "d8da70b8-24b2-44a5-a61d-26a44eae9785"
      },
      "source": [
        "import torch\n",
        "torch.__version__\n",
        "!pip install torch==1.4.0"
      ],
      "execution_count": null,
      "outputs": [
        {
          "output_type": "stream",
          "name": "stdout",
          "text": [
            "Requirement already satisfied: torch==1.4.0 in /usr/local/lib/python3.7/dist-packages (1.4.0)\n"
          ]
        }
      ]
    },
    {
      "cell_type": "code",
      "metadata": {
        "id": "Cd6qmPGwzuPg"
      },
      "source": [
        "import torch.nn as nn  # nn = neural networks"
      ],
      "execution_count": null,
      "outputs": []
    },
    {
      "cell_type": "markdown",
      "metadata": {
        "id": "k22J7mGL0LTY"
      },
      "source": [
        "###Etapa 02: Base de dados"
      ]
    },
    {
      "cell_type": "code",
      "metadata": {
        "colab": {
          "base_uri": "https://localhost:8080/"
        },
        "id": "QlQBaJ460g5N",
        "outputId": "bab7a79c-a082-4f63-f988-5ffbbd55398b"
      },
      "source": [
        "np.random.seed(123)  # Semente geradora aleatória (definindo a semente, sempre gera os mesmos números aleatórios)\n",
        "torch.manual_seed(123)"
      ],
      "execution_count": null,
      "outputs": [
        {
          "output_type": "execute_result",
          "data": {
            "text/plain": [
              "<torch._C.Generator at 0x7f140b775a70>"
            ]
          },
          "metadata": {},
          "execution_count": 4
        }
      ]
    },
    {
      "cell_type": "code",
      "metadata": {
        "id": "F-jVFHGH3IWD"
      },
      "source": [
        "previsores = pd.read_csv('/content/entradas_breast.csv')\n",
        "classe = pd.read_csv('/content/saidas_breast.csv')"
      ],
      "execution_count": null,
      "outputs": []
    },
    {
      "cell_type": "code",
      "metadata": {
        "colab": {
          "base_uri": "https://localhost:8080/"
        },
        "id": "trbEpsWP3-6B",
        "outputId": "6594b0de-2e82-45ac-9393-696311ad58b3"
      },
      "source": [
        "previsores.shape  # Mostra a quantidade de dados dos previsores (569 linhas, 30 caracteristicas)"
      ],
      "execution_count": null,
      "outputs": [
        {
          "output_type": "execute_result",
          "data": {
            "text/plain": [
              "(569, 30)"
            ]
          },
          "metadata": {},
          "execution_count": 6
        }
      ]
    },
    {
      "cell_type": "code",
      "metadata": {
        "colab": {
          "base_uri": "https://localhost:8080/",
          "height": 226
        },
        "id": "r4sXXNKw4M5-",
        "outputId": "06fbe523-9827-4b51-c2e1-fc919a6ecfa0"
      },
      "source": [
        "previsores.head()  # Mostra os 5 primeiros"
      ],
      "execution_count": null,
      "outputs": [
        {
          "output_type": "execute_result",
          "data": {
            "text/html": [
              "<div>\n",
              "<style scoped>\n",
              "    .dataframe tbody tr th:only-of-type {\n",
              "        vertical-align: middle;\n",
              "    }\n",
              "\n",
              "    .dataframe tbody tr th {\n",
              "        vertical-align: top;\n",
              "    }\n",
              "\n",
              "    .dataframe thead th {\n",
              "        text-align: right;\n",
              "    }\n",
              "</style>\n",
              "<table border=\"1\" class=\"dataframe\">\n",
              "  <thead>\n",
              "    <tr style=\"text-align: right;\">\n",
              "      <th></th>\n",
              "      <th>radius_mean</th>\n",
              "      <th>texture_mean</th>\n",
              "      <th>perimeter_mean</th>\n",
              "      <th>area_mean</th>\n",
              "      <th>smoothness_mean</th>\n",
              "      <th>compactness_mean</th>\n",
              "      <th>concavity_mean</th>\n",
              "      <th>concave_points_mean</th>\n",
              "      <th>symmetry_mean</th>\n",
              "      <th>fractal_dimension_mean</th>\n",
              "      <th>radius_se</th>\n",
              "      <th>texture_se</th>\n",
              "      <th>perimeter_se</th>\n",
              "      <th>area_se</th>\n",
              "      <th>smoothness_se</th>\n",
              "      <th>compactness_se</th>\n",
              "      <th>concavity_se</th>\n",
              "      <th>concave_points_se</th>\n",
              "      <th>symmetry_se</th>\n",
              "      <th>fractal_dimension_se</th>\n",
              "      <th>radius_worst</th>\n",
              "      <th>texture_worst</th>\n",
              "      <th>perimeter_worst</th>\n",
              "      <th>area_worst</th>\n",
              "      <th>smoothness_worst</th>\n",
              "      <th>compactness_worst</th>\n",
              "      <th>concavity_worst</th>\n",
              "      <th>concave_points_worst</th>\n",
              "      <th>symmetry_worst</th>\n",
              "      <th>fractal_dimension_worst</th>\n",
              "    </tr>\n",
              "  </thead>\n",
              "  <tbody>\n",
              "    <tr>\n",
              "      <th>0</th>\n",
              "      <td>17.99</td>\n",
              "      <td>10.38</td>\n",
              "      <td>122.80</td>\n",
              "      <td>1001.0</td>\n",
              "      <td>0.11840</td>\n",
              "      <td>0.27760</td>\n",
              "      <td>0.3001</td>\n",
              "      <td>0.14710</td>\n",
              "      <td>0.2419</td>\n",
              "      <td>0.07871</td>\n",
              "      <td>1095.0000</td>\n",
              "      <td>0.9053</td>\n",
              "      <td>8589.0</td>\n",
              "      <td>153.40</td>\n",
              "      <td>0.006399</td>\n",
              "      <td>0.04904</td>\n",
              "      <td>0.05373</td>\n",
              "      <td>0.01587</td>\n",
              "      <td>0.03003</td>\n",
              "      <td>0.006193</td>\n",
              "      <td>25.38</td>\n",
              "      <td>17.33</td>\n",
              "      <td>184.60</td>\n",
              "      <td>2019.0</td>\n",
              "      <td>0.1622</td>\n",
              "      <td>0.6656</td>\n",
              "      <td>0.7119</td>\n",
              "      <td>0.2654</td>\n",
              "      <td>0.4601</td>\n",
              "      <td>0.11890</td>\n",
              "    </tr>\n",
              "    <tr>\n",
              "      <th>1</th>\n",
              "      <td>20.57</td>\n",
              "      <td>17.77</td>\n",
              "      <td>132.90</td>\n",
              "      <td>1326.0</td>\n",
              "      <td>0.08474</td>\n",
              "      <td>0.07864</td>\n",
              "      <td>0.0869</td>\n",
              "      <td>0.07017</td>\n",
              "      <td>0.1812</td>\n",
              "      <td>0.05667</td>\n",
              "      <td>0.5435</td>\n",
              "      <td>0.7339</td>\n",
              "      <td>3398.0</td>\n",
              "      <td>74.08</td>\n",
              "      <td>0.005225</td>\n",
              "      <td>0.01308</td>\n",
              "      <td>0.01860</td>\n",
              "      <td>0.01340</td>\n",
              "      <td>0.01389</td>\n",
              "      <td>0.003532</td>\n",
              "      <td>24.99</td>\n",
              "      <td>23.41</td>\n",
              "      <td>158.80</td>\n",
              "      <td>1956.0</td>\n",
              "      <td>0.1238</td>\n",
              "      <td>0.1866</td>\n",
              "      <td>0.2416</td>\n",
              "      <td>186.0000</td>\n",
              "      <td>275.0000</td>\n",
              "      <td>0.08902</td>\n",
              "    </tr>\n",
              "    <tr>\n",
              "      <th>2</th>\n",
              "      <td>19.69</td>\n",
              "      <td>21.25</td>\n",
              "      <td>130.00</td>\n",
              "      <td>1203.0</td>\n",
              "      <td>0.10960</td>\n",
              "      <td>0.15990</td>\n",
              "      <td>0.1974</td>\n",
              "      <td>0.12790</td>\n",
              "      <td>0.2069</td>\n",
              "      <td>0.05999</td>\n",
              "      <td>0.7456</td>\n",
              "      <td>0.7869</td>\n",
              "      <td>4585.0</td>\n",
              "      <td>94.03</td>\n",
              "      <td>0.006150</td>\n",
              "      <td>0.04006</td>\n",
              "      <td>0.03832</td>\n",
              "      <td>0.02058</td>\n",
              "      <td>0.02250</td>\n",
              "      <td>0.004571</td>\n",
              "      <td>23.57</td>\n",
              "      <td>25.53</td>\n",
              "      <td>152.50</td>\n",
              "      <td>1709.0</td>\n",
              "      <td>0.1444</td>\n",
              "      <td>0.4245</td>\n",
              "      <td>0.4504</td>\n",
              "      <td>243.0000</td>\n",
              "      <td>0.3613</td>\n",
              "      <td>0.08758</td>\n",
              "    </tr>\n",
              "    <tr>\n",
              "      <th>3</th>\n",
              "      <td>11.42</td>\n",
              "      <td>20.38</td>\n",
              "      <td>77.58</td>\n",
              "      <td>386.1</td>\n",
              "      <td>0.14250</td>\n",
              "      <td>0.28390</td>\n",
              "      <td>0.2414</td>\n",
              "      <td>0.10520</td>\n",
              "      <td>0.2597</td>\n",
              "      <td>0.09744</td>\n",
              "      <td>0.4956</td>\n",
              "      <td>1156.0000</td>\n",
              "      <td>3445.0</td>\n",
              "      <td>27.23</td>\n",
              "      <td>0.009110</td>\n",
              "      <td>0.07458</td>\n",
              "      <td>0.05661</td>\n",
              "      <td>0.01867</td>\n",
              "      <td>0.05963</td>\n",
              "      <td>0.009208</td>\n",
              "      <td>14.91</td>\n",
              "      <td>26.50</td>\n",
              "      <td>98.87</td>\n",
              "      <td>567.7</td>\n",
              "      <td>0.2098</td>\n",
              "      <td>0.8663</td>\n",
              "      <td>0.6869</td>\n",
              "      <td>0.2575</td>\n",
              "      <td>0.6638</td>\n",
              "      <td>173.00000</td>\n",
              "    </tr>\n",
              "    <tr>\n",
              "      <th>4</th>\n",
              "      <td>20.29</td>\n",
              "      <td>14.34</td>\n",
              "      <td>135.10</td>\n",
              "      <td>1297.0</td>\n",
              "      <td>0.10030</td>\n",
              "      <td>0.13280</td>\n",
              "      <td>198.0000</td>\n",
              "      <td>0.10430</td>\n",
              "      <td>0.1809</td>\n",
              "      <td>0.05883</td>\n",
              "      <td>0.7572</td>\n",
              "      <td>0.7813</td>\n",
              "      <td>5438.0</td>\n",
              "      <td>94.44</td>\n",
              "      <td>0.011490</td>\n",
              "      <td>0.02461</td>\n",
              "      <td>0.05688</td>\n",
              "      <td>0.01885</td>\n",
              "      <td>0.01756</td>\n",
              "      <td>0.005115</td>\n",
              "      <td>22.54</td>\n",
              "      <td>16.67</td>\n",
              "      <td>152.20</td>\n",
              "      <td>1575.0</td>\n",
              "      <td>0.1374</td>\n",
              "      <td>205.0000</td>\n",
              "      <td>0.4000</td>\n",
              "      <td>0.1625</td>\n",
              "      <td>0.2364</td>\n",
              "      <td>0.07678</td>\n",
              "    </tr>\n",
              "  </tbody>\n",
              "</table>\n",
              "</div>"
            ],
            "text/plain": [
              "    radius_mean   texture_mean  ...   symmetry_worst   fractal_dimension_worst\n",
              "0         17.99          10.38  ...           0.4601                   0.11890\n",
              "1         20.57          17.77  ...         275.0000                   0.08902\n",
              "2         19.69          21.25  ...           0.3613                   0.08758\n",
              "3         11.42          20.38  ...           0.6638                 173.00000\n",
              "4         20.29          14.34  ...           0.2364                   0.07678\n",
              "\n",
              "[5 rows x 30 columns]"
            ]
          },
          "metadata": {},
          "execution_count": 7
        }
      ]
    },
    {
      "cell_type": "code",
      "metadata": {
        "colab": {
          "base_uri": "https://localhost:8080/",
          "height": 206
        },
        "id": "6_BcKpuI5IEs",
        "outputId": "15cd9b23-862e-4b43-bee9-2ebbd51538dc"
      },
      "source": [
        "classe.head()"
      ],
      "execution_count": null,
      "outputs": [
        {
          "output_type": "execute_result",
          "data": {
            "text/html": [
              "<div>\n",
              "<style scoped>\n",
              "    .dataframe tbody tr th:only-of-type {\n",
              "        vertical-align: middle;\n",
              "    }\n",
              "\n",
              "    .dataframe tbody tr th {\n",
              "        vertical-align: top;\n",
              "    }\n",
              "\n",
              "    .dataframe thead th {\n",
              "        text-align: right;\n",
              "    }\n",
              "</style>\n",
              "<table border=\"1\" class=\"dataframe\">\n",
              "  <thead>\n",
              "    <tr style=\"text-align: right;\">\n",
              "      <th></th>\n",
              "      <th>0</th>\n",
              "    </tr>\n",
              "  </thead>\n",
              "  <tbody>\n",
              "    <tr>\n",
              "      <th>0</th>\n",
              "      <td>0</td>\n",
              "    </tr>\n",
              "    <tr>\n",
              "      <th>1</th>\n",
              "      <td>0</td>\n",
              "    </tr>\n",
              "    <tr>\n",
              "      <th>2</th>\n",
              "      <td>0</td>\n",
              "    </tr>\n",
              "    <tr>\n",
              "      <th>3</th>\n",
              "      <td>0</td>\n",
              "    </tr>\n",
              "    <tr>\n",
              "      <th>4</th>\n",
              "      <td>0</td>\n",
              "    </tr>\n",
              "  </tbody>\n",
              "</table>\n",
              "</div>"
            ],
            "text/plain": [
              "   0\n",
              "0  0\n",
              "1  0\n",
              "2  0\n",
              "3  0\n",
              "4  0"
            ]
          },
          "metadata": {},
          "execution_count": 9
        }
      ]
    },
    {
      "cell_type": "code",
      "metadata": {
        "colab": {
          "base_uri": "https://localhost:8080/"
        },
        "id": "ZOcVisBT5WGT",
        "outputId": "85c4c7bd-1511-42ae-e774-d5a85dbb3043"
      },
      "source": [
        "np.unique(classe)  # Indica os dados únicos"
      ],
      "execution_count": null,
      "outputs": [
        {
          "output_type": "execute_result",
          "data": {
            "text/plain": [
              "array([0, 1])"
            ]
          },
          "metadata": {},
          "execution_count": 10
        }
      ]
    },
    {
      "cell_type": "code",
      "metadata": {
        "colab": {
          "base_uri": "https://localhost:8080/",
          "height": 334
        },
        "id": "dLOuV3iZ5eur",
        "outputId": "19a98ffc-5411-43e2-d8f7-520634c4433b"
      },
      "source": [
        "sns.countplot(classe['0']);"
      ],
      "execution_count": null,
      "outputs": [
        {
          "output_type": "stream",
          "name": "stderr",
          "text": [
            "/usr/local/lib/python3.7/dist-packages/seaborn/_decorators.py:43: FutureWarning: Pass the following variable as a keyword arg: x. From version 0.12, the only valid positional argument will be `data`, and passing other arguments without an explicit keyword will result in an error or misinterpretation.\n",
            "  FutureWarning\n"
          ]
        },
        {
          "output_type": "display_data",
          "data": {
            "image/png": "[encoded data removed]",
            "text/plain": [
              "<Figure size 432x288 with 1 Axes>"
            ]
          },
          "metadata": {
            "needs_background": "light"
          }
        }
      ]
    },
    {
      "cell_type": "code",
      "metadata": {
        "id": "rAYbEWWu59pW"
      },
      "source": [
        "# Dividir os dados com conjuntos de treinamento e teste. 25% de teste\n",
        "previsores_treino, previsores_teste, classe_treino, classe_teste = train_test_split(previsores, \n",
        "                                                                                    classe, \n",
        "                                                                                    test_size=0.25)  "
      ],
      "execution_count": null,
      "outputs": []
    },
    {
      "cell_type": "code",
      "metadata": {
        "colab": {
          "base_uri": "https://localhost:8080/"
        },
        "id": "dce_9fSY6i05",
        "outputId": "59f83916-db92-4b39-baf1-4e3b4ae4b2fa"
      },
      "source": [
        "previsores_treino.shape"
      ],
      "execution_count": null,
      "outputs": [
        {
          "output_type": "execute_result",
          "data": {
            "text/plain": [
              "(426, 30)"
            ]
          },
          "metadata": {},
          "execution_count": 18
        }
      ]
    },
    {
      "cell_type": "code",
      "metadata": {
        "colab": {
          "base_uri": "https://localhost:8080/"
        },
        "id": "wW0aQKj76lEw",
        "outputId": "b6301aa7-724d-4054-819b-4d781391271f"
      },
      "source": [
        "classe_treino.shape"
      ],
      "execution_count": null,
      "outputs": [
        {
          "output_type": "execute_result",
          "data": {
            "text/plain": [
              "(426, 1)"
            ]
          },
          "metadata": {},
          "execution_count": 19
        }
      ]
    },
    {
      "cell_type": "code",
      "metadata": {
        "colab": {
          "base_uri": "https://localhost:8080/"
        },
        "id": "Ez9VKkjm6poH",
        "outputId": "03cad69e-8b49-4156-ca69-36df1adfdb47"
      },
      "source": [
        "previsores_teste.shape"
      ],
      "execution_count": null,
      "outputs": [
        {
          "output_type": "execute_result",
          "data": {
            "text/plain": [
              "(143, 30)"
            ]
          },
          "metadata": {},
          "execution_count": 20
        }
      ]
    },
    {
      "cell_type": "code",
      "metadata": {
        "colab": {
          "base_uri": "https://localhost:8080/"
        },
        "id": "vrPeyeqn6rl_",
        "outputId": "84a76878-77ec-4901-d318-a004b2e9ce4c"
      },
      "source": [
        "classe_teste.shape"
      ],
      "execution_count": null,
      "outputs": [
        {
          "output_type": "execute_result",
          "data": {
            "text/plain": [
              "(143, 1)"
            ]
          },
          "metadata": {},
          "execution_count": 21
        }
      ]
    },
    {
      "cell_type": "markdown",
      "metadata": {
        "id": "5OGw0FZ96w3-"
      },
      "source": [
        "###Etapa 03: Transformação dos dados para tensores"
      ]
    },
    {
      "cell_type": "code",
      "metadata": {
        "colab": {
          "base_uri": "https://localhost:8080/"
        },
        "id": "MOlgJGlq62uO",
        "outputId": "8938045c-d460-4ea4-bd22-80c85a11eb84"
      },
      "source": [
        "type(previsores_treino)  # O resultado mostra que a base está no formato dataframe do pandas"
      ],
      "execution_count": null,
      "outputs": [
        {
          "output_type": "execute_result",
          "data": {
            "text/plain": [
              "pandas.core.frame.DataFrame"
            ]
          },
          "metadata": {},
          "execution_count": 22
        }
      ]
    },
    {
      "cell_type": "code",
      "metadata": {
        "colab": {
          "base_uri": "https://localhost:8080/"
        },
        "id": "HIqwH0YB7Fhc",
        "outputId": "0eeb9b3b-2e1b-4996-bf25-a4b61a4b9c7a"
      },
      "source": [
        "type(np.array(previsores_treino))  # Convertendo previsores_treino para np.array"
      ],
      "execution_count": null,
      "outputs": [
        {
          "output_type": "execute_result",
          "data": {
            "text/plain": [
              "numpy.ndarray"
            ]
          },
          "metadata": {},
          "execution_count": 23
        }
      ]
    },
    {
      "cell_type": "code",
      "metadata": {
        "id": "NCg4QRoA7SZG"
      },
      "source": [
        "previsores_treino = torch.tensor(np.array(previsores_treino), dtype = torch.float)  # Convertendo para tensores\n",
        "classe_treino = torch.tensor(np.array(classe_treino), dtype = torch.float)"
      ],
      "execution_count": null,
      "outputs": []
    },
    {
      "cell_type": "code",
      "metadata": {
        "colab": {
          "base_uri": "https://localhost:8080/"
        },
        "id": "QgD-9rqN8FAp",
        "outputId": "1b412f9f-8a61-4ed0-ba3e-be1b485b1c44"
      },
      "source": [
        "type(previsores_treino)"
      ],
      "execution_count": null,
      "outputs": [
        {
          "output_type": "execute_result",
          "data": {
            "text/plain": [
              "torch.Tensor"
            ]
          },
          "metadata": {},
          "execution_count": 25
        }
      ]
    },
    {
      "cell_type": "code",
      "metadata": {
        "id": "xjENZnGk8R0t"
      },
      "source": [
        "dataset = torch.utils.data.TensorDataset(previsores_treino, classe_treino)"
      ],
      "execution_count": null,
      "outputs": []
    },
    {
      "cell_type": "code",
      "metadata": {
        "colab": {
          "base_uri": "https://localhost:8080/"
        },
        "id": "uCDMkX-28ijU",
        "outputId": "fd758b8f-947a-4cdc-ff16-fc23267fd72b"
      },
      "source": [
        "type(dataset)"
      ],
      "execution_count": null,
      "outputs": [
        {
          "output_type": "execute_result",
          "data": {
            "text/plain": [
              "torch.utils.data.dataset.TensorDataset"
            ]
          },
          "metadata": {},
          "execution_count": 27
        }
      ]
    },
    {
      "cell_type": "code",
      "metadata": {
        "id": "a_poAoBf8nT3"
      },
      "source": [
        "train_loader = torch.utils.data.DataLoader(dataset, batch_size = 10, shuffle = True)"
      ],
      "execution_count": null,
      "outputs": []
    },
    {
      "cell_type": "markdown",
      "metadata": {
        "id": "8YFLR8fP9NIH"
      },
      "source": [
        "###Etapa 04: Construção do Modelo"
      ]
    },
    {
      "cell_type": "code",
      "metadata": {
        "id": "p0NaCm9s9RNd"
      },
      "source": [
        "# 30 neurônios na camada de entrada (de acordo com os atributos da base de dados)\n",
        "# 2 camadas ocultas, com 16 neurônios cada\n",
        "# camada de saída com um neurônio (classificação binária)\n",
        "# 30 -> 16 -> 16 -> 1\n",
        "# Somatório (entrada + saida) / 2 = (30 + 1) / 2 =~ 16\n",
        "classificador = nn.Sequential(\n",
        "    nn.Linear(in_features=30, out_features=16),  # 30 -> 16\n",
        "    nn.ReLU(),  # Relu function\n",
        "    nn.Linear(16, 16),  # 16 -> 16\n",
        "    nn.ReLU(), \n",
        "    nn.Linear(16, 1),\n",
        "    nn.Sigmoid()  # Função de ativação sigmoide retorna um probabilidade (entre 0 e 1)\n",
        ")"
      ],
      "execution_count": null,
      "outputs": []
    },
    {
      "cell_type": "code",
      "metadata": {
        "colab": {
          "base_uri": "https://localhost:8080/"
        },
        "id": "9D_Am6m-BSfx",
        "outputId": "f09c84b2-e20d-4ebf-d72c-e442b5c75bf6"
      },
      "source": [
        "classificador.parameters"
      ],
      "execution_count": null,
      "outputs": [
        {
          "output_type": "execute_result",
          "data": {
            "text/plain": [
              "<bound method Module.parameters of Sequential(\n",
              "  (0): Linear(in_features=30, out_features=16, bias=True)\n",
              "  (1): ReLU()\n",
              "  (2): Linear(in_features=16, out_features=16, bias=True)\n",
              "  (3): ReLU()\n",
              "  (4): Linear(in_features=16, out_features=1, bias=True)\n",
              "  (5): Sigmoid()\n",
              ")>"
            ]
          },
          "metadata": {},
          "execution_count": 29
        }
      ]
    },
    {
      "cell_type": "code",
      "metadata": {
        "id": "n_x5H5CkBb7o"
      },
      "source": [
        "criterion = nn.BCELoss()  # Binary Cross Entropy (Calculo do erro)"
      ],
      "execution_count": null,
      "outputs": []
    },
    {
      "cell_type": "code",
      "metadata": {
        "id": "kUTF5AWtBy2s"
      },
      "source": [
        "optimizer = torch.optim.Adam(classificador.parameters(), lr=0.001, weight_decay=0.0001)  # lr = learning rate"
      ],
      "execution_count": null,
      "outputs": []
    },
    {
      "cell_type": "markdown",
      "metadata": {
        "id": "BOA7qKmXCV3m"
      },
      "source": [
        "###Etapa 05: Treinamento do Modelo"
      ]
    },
    {
      "cell_type": "code",
      "metadata": {
        "colab": {
          "base_uri": "https://localhost:8080/"
        },
        "id": "gK96cp0jCSzg",
        "outputId": "7972f1f5-9b41-4479-a47a-722909b78417"
      },
      "source": [
        "for epoch in range(100):  # roda por 100 vezes a atualização dos pesos\n",
        "    running_loss = 0.  # Variável para acumular o erro\n",
        "    for data in train_loader:\n",
        "        inputs, labels = data\n",
        "        #print(inputs)\n",
        "        #print('--------')\n",
        "        #print(labels)\n",
        "        optimizer.zero_grad()  # zerar os valores acumulados em cada ajuste de peso\n",
        "        outputs = classificador(inputs) # previsões para cada um dos registros\n",
        "        # Compararar as saidas (outputs) com os valores reais da base de dados\n",
        "        loss = criterion(outputs, labels)  # labels = respostas reais\n",
        "        loss.backward()\n",
        "        optimizer.step()  # Atualização dos pesos\n",
        "\n",
        "        running_loss += loss.item()\n",
        "    print('Época %3d: perda %.5f' %(epoch+1, running_loss/len(train_loader)))"
      ],
      "execution_count": null,
      "outputs": [
        {
          "output_type": "stream",
          "name": "stdout",
          "text": [
            "Época   1: perda 0.11837\n",
            "Época   2: perda 0.13308\n",
            "Época   3: perda 0.12063\n",
            "Época   4: perda 0.12322\n",
            "Época   5: perda 0.11757\n",
            "Época   6: perda 0.10744\n",
            "Época   7: perda 0.11558\n",
            "Época   8: perda 0.09954\n",
            "Época   9: perda 0.10528\n",
            "Época  10: perda 0.13231\n",
            "Época  11: perda 0.11756\n",
            "Época  12: perda 0.11083\n",
            "Época  13: perda 0.13749\n",
            "Época  14: perda 0.12701\n",
            "Época  15: perda 0.13506\n",
            "Época  16: perda 0.16061\n",
            "Época  17: perda 0.11623\n",
            "Época  18: perda 0.09509\n",
            "Época  19: perda 0.12215\n",
            "Época  20: perda 0.10361\n",
            "Época  21: perda 0.12315\n",
            "Época  22: perda 0.12524\n",
            "Época  23: perda 0.12097\n",
            "Época  24: perda 0.10468\n",
            "Época  25: perda 0.10049\n",
            "Época  26: perda 0.16442\n",
            "Época  27: perda 0.09982\n",
            "Época  28: perda 0.13267\n",
            "Época  29: perda 0.21270\n",
            "Época  30: perda 0.14741\n",
            "Época  31: perda 0.12312\n",
            "Época  32: perda 0.11162\n",
            "Época  33: perda 0.15645\n",
            "Época  34: perda 0.11547\n",
            "Época  35: perda 0.10071\n",
            "Época  36: perda 0.13111\n",
            "Época  37: perda 0.31136\n",
            "Época  38: perda 0.12849\n",
            "Época  39: perda 0.11217\n",
            "Época  40: perda 0.11650\n",
            "Época  41: perda 0.09895\n",
            "Época  42: perda 0.11771\n",
            "Época  43: perda 0.09279\n",
            "Época  44: perda 0.11017\n",
            "Época  45: perda 0.11865\n",
            "Época  46: perda 0.14498\n",
            "Época  47: perda 0.09476\n",
            "Época  48: perda 0.09871\n",
            "Época  49: perda 0.10801\n",
            "Época  50: perda 0.12489\n",
            "Época  51: perda 0.10114\n",
            "Época  52: perda 0.09498\n",
            "Época  53: perda 0.10800\n",
            "Época  54: perda 0.11710\n",
            "Época  55: perda 0.10247\n",
            "Época  56: perda 0.11139\n",
            "Época  57: perda 0.10610\n",
            "Época  58: perda 0.13346\n",
            "Época  59: perda 0.11603\n",
            "Época  60: perda 0.11163\n",
            "Época  61: perda 0.15334\n",
            "Época  62: perda 0.11722\n",
            "Época  63: perda 0.08300\n",
            "Época  64: perda 0.08811\n",
            "Época  65: perda 0.08671\n",
            "Época  66: perda 0.09005\n",
            "Época  67: perda 0.11123\n",
            "Época  68: perda 0.12320\n",
            "Época  69: perda 0.09338\n",
            "Época  70: perda 0.09772\n",
            "Época  71: perda 0.15291\n",
            "Época  72: perda 0.12759\n",
            "Época  73: perda 0.09460\n",
            "Época  74: perda 0.10575\n",
            "Época  75: perda 0.12185\n",
            "Época  76: perda 0.08155\n",
            "Época  77: perda 0.08647\n",
            "Época  78: perda 0.07675\n",
            "Época  79: perda 0.08961\n",
            "Época  80: perda 0.09900\n",
            "Época  81: perda 0.07781\n",
            "Época  82: perda 0.07907\n",
            "Época  83: perda 0.13339\n",
            "Época  84: perda 0.09137\n",
            "Época  85: perda 0.11415\n",
            "Época  86: perda 0.09511\n",
            "Época  87: perda 0.10380\n",
            "Época  88: perda 0.07785\n",
            "Época  89: perda 0.08421\n",
            "Época  90: perda 0.08821\n",
            "Época  91: perda 0.08952\n",
            "Época  92: perda 0.09285\n",
            "Época  93: perda 0.09102\n",
            "Época  94: perda 0.11018\n",
            "Época  95: perda 0.10350\n",
            "Época  96: perda 0.13225\n",
            "Época  97: perda 0.11325\n",
            "Época  98: perda 0.07648\n",
            "Época  99: perda 0.11688\n",
            "Época 100: perda 0.11210\n"
          ]
        }
      ]
    },
    {
      "cell_type": "markdown",
      "metadata": {
        "id": "2l8nvzuMGiQQ"
      },
      "source": [
        "###Etapa 06: Visualização dos pesos"
      ]
    },
    {
      "cell_type": "code",
      "metadata": {
        "id": "YsBZDOmbGmV9"
      },
      "source": [
        "params = list(classificador.parameters())"
      ],
      "execution_count": null,
      "outputs": []
    },
    {
      "cell_type": "code",
      "metadata": {
        "colab": {
          "base_uri": "https://localhost:8080/"
        },
        "id": "Mbh4VasNGxUH",
        "outputId": "da07feef-9373-4912-f664-ffd01ec4391a"
      },
      "source": [
        "pesos0 = params[0]\n",
        "pesos0.shape"
      ],
      "execution_count": null,
      "outputs": [
        {
          "output_type": "execute_result",
          "data": {
            "text/plain": [
              "torch.Size([16, 30])"
            ]
          },
          "metadata": {},
          "execution_count": 38
        }
      ]
    },
    {
      "cell_type": "code",
      "metadata": {
        "colab": {
          "base_uri": "https://localhost:8080/"
        },
        "id": "p36KkiBNHZcX",
        "outputId": "3162c944-f8e3-4e07-8e7e-223e04687254"
      },
      "source": [
        "bias0 = params[1]\n",
        "bias0.shape"
      ],
      "execution_count": null,
      "outputs": [
        {
          "output_type": "execute_result",
          "data": {
            "text/plain": [
              "torch.Size([16])"
            ]
          },
          "metadata": {},
          "execution_count": 39
        }
      ]
    },
    {
      "cell_type": "code",
      "metadata": {
        "colab": {
          "base_uri": "https://localhost:8080/"
        },
        "id": "SgGulbW3HkGi",
        "outputId": "ceb068af-0f9a-4496-f2db-01a6a25d05ec"
      },
      "source": [
        "pesos1 = params[2]\n",
        "pesos1.shape"
      ],
      "execution_count": null,
      "outputs": [
        {
          "output_type": "execute_result",
          "data": {
            "text/plain": [
              "torch.Size([16, 16])"
            ]
          },
          "metadata": {},
          "execution_count": 40
        }
      ]
    },
    {
      "cell_type": "code",
      "metadata": {
        "colab": {
          "base_uri": "https://localhost:8080/"
        },
        "id": "Lz_ApK6OHqxO",
        "outputId": "d397e6d8-e66a-4f2f-fcc3-1609457b368f"
      },
      "source": [
        "bias1 = params[3]\n",
        "bias1.shape"
      ],
      "execution_count": null,
      "outputs": [
        {
          "output_type": "execute_result",
          "data": {
            "text/plain": [
              "torch.Size([16])"
            ]
          },
          "metadata": {},
          "execution_count": 41
        }
      ]
    },
    {
      "cell_type": "markdown",
      "metadata": {
        "id": "pvJ_u-NvH5fu"
      },
      "source": [
        "###Etapa 07: Avaliação do Modelo"
      ]
    },
    {
      "cell_type": "code",
      "metadata": {
        "colab": {
          "base_uri": "https://localhost:8080/"
        },
        "id": "I_Nw5lc8H9W_",
        "outputId": "108bfcb5-f65d-40b9-9617-61d99f89e152"
      },
      "source": [
        "classificador.eval()  # eval = evaluate"
      ],
      "execution_count": null,
      "outputs": [
        {
          "output_type": "execute_result",
          "data": {
            "text/plain": [
              "Sequential(\n",
              "  (0): Linear(in_features=30, out_features=16, bias=True)\n",
              "  (1): ReLU()\n",
              "  (2): Linear(in_features=16, out_features=16, bias=True)\n",
              "  (3): ReLU()\n",
              "  (4): Linear(in_features=16, out_features=1, bias=True)\n",
              "  (5): Sigmoid()\n",
              ")"
            ]
          },
          "metadata": {},
          "execution_count": 54
        }
      ]
    },
    {
      "cell_type": "code",
      "metadata": {
        "colab": {
          "base_uri": "https://localhost:8080/"
        },
        "id": "FMCIH-SuIfA6",
        "outputId": "c5c8558a-93e2-437a-e64d-97c85d0f8240"
      },
      "source": [
        "type(previsores_teste)"
      ],
      "execution_count": null,
      "outputs": [
        {
          "output_type": "execute_result",
          "data": {
            "text/plain": [
              "torch.Tensor"
            ]
          },
          "metadata": {},
          "execution_count": 55
        }
      ]
    },
    {
      "cell_type": "code",
      "metadata": {
        "id": "NVPl60ZwIkbo"
      },
      "source": [
        "# Convertendo para tensor\n",
        "previsores_teste = torch.tensor(np.array(previsores_teste), dtype = torch.float)"
      ],
      "execution_count": null,
      "outputs": []
    },
    {
      "cell_type": "code",
      "metadata": {
        "colab": {
          "base_uri": "https://localhost:8080/"
        },
        "id": "IRACGUiIIuRz",
        "outputId": "ece08919-062e-4c30-d56e-18ba2e2a7d11"
      },
      "source": [
        "type(previsores_teste)"
      ],
      "execution_count": null,
      "outputs": [
        {
          "output_type": "execute_result",
          "data": {
            "text/plain": [
              "torch.Tensor"
            ]
          },
          "metadata": {},
          "execution_count": 57
        }
      ]
    },
    {
      "cell_type": "code",
      "metadata": {
        "id": "q2eu886DIyhA"
      },
      "source": [
        "previsoes = classificador.forward(previsores_teste)"
      ],
      "execution_count": null,
      "outputs": []
    },
    {
      "cell_type": "code",
      "metadata": {
        "colab": {
          "base_uri": "https://localhost:8080/"
        },
        "id": "OEFEVjYRI_M3",
        "outputId": "b3e4b4bd-3f2b-4925-fe2f-6932db753c74"
      },
      "source": [
        "previsoes"
      ],
      "execution_count": null,
      "outputs": [
        {
          "output_type": "execute_result",
          "data": {
            "text/plain": [
              "tensor([[9.9672e-01],\n",
              "        [1.0000e+00],\n",
              "        [6.1214e-01],\n",
              "        [9.8257e-01],\n",
              "        [1.8340e-06],\n",
              "        [9.9072e-01],\n",
              "        [9.7290e-01],\n",
              "        [9.9999e-01],\n",
              "        [9.7541e-01],\n",
              "        [9.4056e-01],\n",
              "        [9.9533e-01],\n",
              "        [9.9981e-01],\n",
              "        [9.9063e-01],\n",
              "        [9.9745e-01],\n",
              "        [9.2018e-01],\n",
              "        [9.8172e-01],\n",
              "        [9.9824e-01],\n",
              "        [1.0000e+00],\n",
              "        [9.3540e-01],\n",
              "        [9.9996e-01],\n",
              "        [3.5211e-10],\n",
              "        [1.7387e-03],\n",
              "        [8.0280e-01],\n",
              "        [1.0000e+00],\n",
              "        [9.5063e-01],\n",
              "        [5.6963e-04],\n",
              "        [1.3442e-01],\n",
              "        [1.0000e+00],\n",
              "        [2.1691e-06],\n",
              "        [9.9934e-01],\n",
              "        [5.0708e-01],\n",
              "        [1.0000e+00],\n",
              "        [8.8011e-01],\n",
              "        [9.9078e-01],\n",
              "        [2.9707e-01],\n",
              "        [9.9961e-01],\n",
              "        [6.4712e-01],\n",
              "        [9.9999e-01],\n",
              "        [9.9994e-01],\n",
              "        [5.7382e-07],\n",
              "        [1.1541e-03],\n",
              "        [9.4357e-01],\n",
              "        [6.0338e-06],\n",
              "        [3.6131e-01],\n",
              "        [2.8177e-07],\n",
              "        [8.7941e-01],\n",
              "        [1.0981e-04],\n",
              "        [0.0000e+00],\n",
              "        [9.4604e-01],\n",
              "        [3.3480e-02],\n",
              "        [1.0000e+00],\n",
              "        [1.5085e-20],\n",
              "        [9.8109e-01],\n",
              "        [9.9832e-01],\n",
              "        [9.9881e-01],\n",
              "        [7.3325e-01],\n",
              "        [9.9993e-01],\n",
              "        [5.3190e-12],\n",
              "        [4.5450e-12],\n",
              "        [9.9994e-01],\n",
              "        [4.5310e-05],\n",
              "        [9.9906e-01],\n",
              "        [9.9955e-01],\n",
              "        [9.9959e-01],\n",
              "        [9.0623e-01],\n",
              "        [9.9555e-12],\n",
              "        [1.0000e+00],\n",
              "        [1.0000e+00],\n",
              "        [1.0000e+00],\n",
              "        [9.8825e-01],\n",
              "        [1.0000e+00],\n",
              "        [9.8067e-01],\n",
              "        [2.3658e-01],\n",
              "        [9.1337e-01],\n",
              "        [6.0223e-06],\n",
              "        [9.9768e-01],\n",
              "        [9.3361e-01],\n",
              "        [5.0531e-12],\n",
              "        [5.7100e-08],\n",
              "        [5.1911e-01],\n",
              "        [9.9484e-01],\n",
              "        [7.5298e-06],\n",
              "        [1.4029e-09],\n",
              "        [9.9775e-01],\n",
              "        [1.0000e+00],\n",
              "        [1.0000e+00],\n",
              "        [1.3808e-01],\n",
              "        [9.9767e-01],\n",
              "        [2.0989e-04],\n",
              "        [6.8082e-01],\n",
              "        [4.0810e-03],\n",
              "        [9.8531e-01],\n",
              "        [9.9999e-01],\n",
              "        [4.3103e-04],\n",
              "        [9.9917e-01],\n",
              "        [9.9999e-01],\n",
              "        [9.9971e-01],\n",
              "        [9.9993e-01],\n",
              "        [8.5292e-04],\n",
              "        [1.0000e+00],\n",
              "        [9.9997e-01],\n",
              "        [1.0000e+00],\n",
              "        [9.9921e-01],\n",
              "        [9.9927e-01],\n",
              "        [9.8889e-01],\n",
              "        [1.0000e+00],\n",
              "        [1.0000e+00],\n",
              "        [9.9998e-01],\n",
              "        [1.0000e+00],\n",
              "        [9.9926e-01],\n",
              "        [1.0000e+00],\n",
              "        [1.0000e+00],\n",
              "        [6.2616e-01],\n",
              "        [3.0301e-07],\n",
              "        [9.8294e-01],\n",
              "        [8.2394e-06],\n",
              "        [9.9967e-01],\n",
              "        [1.9567e-02],\n",
              "        [9.9949e-01],\n",
              "        [9.9825e-01],\n",
              "        [9.9921e-01],\n",
              "        [9.9620e-01],\n",
              "        [1.0000e+00],\n",
              "        [9.9995e-01],\n",
              "        [1.5162e-11],\n",
              "        [9.9893e-01],\n",
              "        [2.9385e-01],\n",
              "        [1.0716e-01],\n",
              "        [1.0000e+00],\n",
              "        [9.9875e-01],\n",
              "        [4.2661e-14],\n",
              "        [9.9968e-01],\n",
              "        [1.0000e+00],\n",
              "        [2.0128e-03],\n",
              "        [8.7616e-04],\n",
              "        [9.5141e-01],\n",
              "        [9.9835e-01],\n",
              "        [9.9994e-01],\n",
              "        [9.9615e-02],\n",
              "        [3.5240e-05],\n",
              "        [2.6675e-08],\n",
              "        [9.9676e-01],\n",
              "        [1.0938e-10]], grad_fn=<SigmoidBackward>)"
            ]
          },
          "metadata": {},
          "execution_count": 68
        }
      ]
    },
    {
      "cell_type": "code",
      "metadata": {
        "colab": {
          "base_uri": "https://localhost:8080/"
        },
        "id": "LEghhvWsJY5n",
        "outputId": "5ba491f9-e06f-451a-e89c-16f315fed747"
      },
      "source": [
        "previsoes = np.array(previsoes > 0.5)\n",
        "previsoes"
      ],
      "execution_count": null,
      "outputs": [
        {
          "output_type": "execute_result",
          "data": {
            "text/plain": [
              "array([[ True],\n",
              "       [ True],\n",
              "       [ True],\n",
              "       [ True],\n",
              "       [False],\n",
              "       [ True],\n",
              "       [ True],\n",
              "       [ True],\n",
              "       [ True],\n",
              "       [ True],\n",
              "       [ True],\n",
              "       [ True],\n",
              "       [ True],\n",
              "       [ True],\n",
              "       [ True],\n",
              "       [ True],\n",
              "       [ True],\n",
              "       [ True],\n",
              "       [ True],\n",
              "       [ True],\n",
              "       [False],\n",
              "       [False],\n",
              "       [ True],\n",
              "       [ True],\n",
              "       [ True],\n",
              "       [False],\n",
              "       [False],\n",
              "       [ True],\n",
              "       [False],\n",
              "       [ True],\n",
              "       [ True],\n",
              "       [ True],\n",
              "       [ True],\n",
              "       [ True],\n",
              "       [False],\n",
              "       [ True],\n",
              "       [ True],\n",
              "       [ True],\n",
              "       [ True],\n",
              "       [False],\n",
              "       [False],\n",
              "       [ True],\n",
              "       [False],\n",
              "       [False],\n",
              "       [False],\n",
              "       [ True],\n",
              "       [False],\n",
              "       [False],\n",
              "       [ True],\n",
              "       [False],\n",
              "       [ True],\n",
              "       [False],\n",
              "       [ True],\n",
              "       [ True],\n",
              "       [ True],\n",
              "       [ True],\n",
              "       [ True],\n",
              "       [False],\n",
              "       [False],\n",
              "       [ True],\n",
              "       [False],\n",
              "       [ True],\n",
              "       [ True],\n",
              "       [ True],\n",
              "       [ True],\n",
              "       [False],\n",
              "       [ True],\n",
              "       [ True],\n",
              "       [ True],\n",
              "       [ True],\n",
              "       [ True],\n",
              "       [ True],\n",
              "       [False],\n",
              "       [ True],\n",
              "       [False],\n",
              "       [ True],\n",
              "       [ True],\n",
              "       [False],\n",
              "       [False],\n",
              "       [ True],\n",
              "       [ True],\n",
              "       [False],\n",
              "       [False],\n",
              "       [ True],\n",
              "       [ True],\n",
              "       [ True],\n",
              "       [False],\n",
              "       [ True],\n",
              "       [False],\n",
              "       [ True],\n",
              "       [False],\n",
              "       [ True],\n",
              "       [ True],\n",
              "       [False],\n",
              "       [ True],\n",
              "       [ True],\n",
              "       [ True],\n",
              "       [ True],\n",
              "       [False],\n",
              "       [ True],\n",
              "       [ True],\n",
              "       [ True],\n",
              "       [ True],\n",
              "       [ True],\n",
              "       [ True],\n",
              "       [ True],\n",
              "       [ True],\n",
              "       [ True],\n",
              "       [ True],\n",
              "       [ True],\n",
              "       [ True],\n",
              "       [ True],\n",
              "       [ True],\n",
              "       [False],\n",
              "       [ True],\n",
              "       [False],\n",
              "       [ True],\n",
              "       [False],\n",
              "       [ True],\n",
              "       [ True],\n",
              "       [ True],\n",
              "       [ True],\n",
              "       [ True],\n",
              "       [ True],\n",
              "       [False],\n",
              "       [ True],\n",
              "       [False],\n",
              "       [False],\n",
              "       [ True],\n",
              "       [ True],\n",
              "       [False],\n",
              "       [ True],\n",
              "       [ True],\n",
              "       [False],\n",
              "       [False],\n",
              "       [ True],\n",
              "       [ True],\n",
              "       [ True],\n",
              "       [False],\n",
              "       [False],\n",
              "       [False],\n",
              "       [ True],\n",
              "       [False]])"
            ]
          },
          "metadata": {},
          "execution_count": 69
        }
      ]
    },
    {
      "cell_type": "code",
      "metadata": {
        "colab": {
          "base_uri": "https://localhost:8080/",
          "height": 424
        },
        "id": "kylI4J-1KuiL",
        "outputId": "f74ccfa7-75f9-4644-81b0-95f8e03b0444"
      },
      "source": [
        "classe_teste"
      ],
      "execution_count": null,
      "outputs": [
        {
          "output_type": "execute_result",
          "data": {
            "text/html": [
              "<div>\n",
              "<style scoped>\n",
              "    .dataframe tbody tr th:only-of-type {\n",
              "        vertical-align: middle;\n",
              "    }\n",
              "\n",
              "    .dataframe tbody tr th {\n",
              "        vertical-align: top;\n",
              "    }\n",
              "\n",
              "    .dataframe thead th {\n",
              "        text-align: right;\n",
              "    }\n",
              "</style>\n",
              "<table border=\"1\" class=\"dataframe\">\n",
              "  <thead>\n",
              "    <tr style=\"text-align: right;\">\n",
              "      <th></th>\n",
              "      <th>0</th>\n",
              "    </tr>\n",
              "  </thead>\n",
              "  <tbody>\n",
              "    <tr>\n",
              "      <th>333</th>\n",
              "      <td>1</td>\n",
              "    </tr>\n",
              "    <tr>\n",
              "      <th>273</th>\n",
              "      <td>1</td>\n",
              "    </tr>\n",
              "    <tr>\n",
              "      <th>201</th>\n",
              "      <td>0</td>\n",
              "    </tr>\n",
              "    <tr>\n",
              "      <th>178</th>\n",
              "      <td>1</td>\n",
              "    </tr>\n",
              "    <tr>\n",
              "      <th>85</th>\n",
              "      <td>0</td>\n",
              "    </tr>\n",
              "    <tr>\n",
              "      <th>...</th>\n",
              "      <td>...</td>\n",
              "    </tr>\n",
              "    <tr>\n",
              "      <th>230</th>\n",
              "      <td>0</td>\n",
              "    </tr>\n",
              "    <tr>\n",
              "      <th>282</th>\n",
              "      <td>0</td>\n",
              "    </tr>\n",
              "    <tr>\n",
              "      <th>535</th>\n",
              "      <td>0</td>\n",
              "    </tr>\n",
              "    <tr>\n",
              "      <th>436</th>\n",
              "      <td>1</td>\n",
              "    </tr>\n",
              "    <tr>\n",
              "      <th>236</th>\n",
              "      <td>0</td>\n",
              "    </tr>\n",
              "  </tbody>\n",
              "</table>\n",
              "<p>143 rows × 1 columns</p>\n",
              "</div>"
            ],
            "text/plain": [
              "     0\n",
              "333  1\n",
              "273  1\n",
              "201  0\n",
              "178  1\n",
              "85   0\n",
              "..  ..\n",
              "230  0\n",
              "282  0\n",
              "535  0\n",
              "436  1\n",
              "236  0\n",
              "\n",
              "[143 rows x 1 columns]"
            ]
          },
          "metadata": {},
          "execution_count": 61
        }
      ]
    },
    {
      "cell_type": "code",
      "metadata": {
        "colab": {
          "base_uri": "https://localhost:8080/"
        },
        "id": "BUztOzkvJs2B",
        "outputId": "5c609f7c-a462-4d83-adb1-45f169a9808a"
      },
      "source": [
        "taxa_acerto = accuracy_score(classe_teste, previsoes)\n",
        "taxa_acerto"
      ],
      "execution_count": null,
      "outputs": [
        {
          "output_type": "execute_result",
          "data": {
            "text/plain": [
              "0.9020979020979021"
            ]
          },
          "metadata": {},
          "execution_count": 71
        }
      ]
    },
    {
      "cell_type": "code",
      "metadata": {
        "colab": {
          "base_uri": "https://localhost:8080/"
        },
        "id": "jd5obyulM6VS",
        "outputId": "295ce2b2-44a1-47ba-af30-b4f03d1d3593"
      },
      "source": [
        "matriz = confusion_matrix(classe_teste, previsoes)\n",
        "matriz"
      ],
      "execution_count": null,
      "outputs": [
        {
          "output_type": "execute_result",
          "data": {
            "text/plain": [
              "array([[42, 12],\n",
              "       [ 2, 87]])"
            ]
          },
          "metadata": {},
          "execution_count": 72
        }
      ]
    },
    {
      "cell_type": "code",
      "metadata": {
        "colab": {
          "base_uri": "https://localhost:8080/",
          "height": 265
        },
        "id": "xFqbMOPrNBPa",
        "outputId": "fd5a49c4-affd-4f8d-9a19-db3b5e0407fa"
      },
      "source": [
        "sns.heatmap(matriz, annot=True);"
      ],
      "execution_count": null,
      "outputs": [
        {
          "output_type": "display_data",
          "data": {
            "image/png": "[encoded data removed]",
            "text/plain": [
              "<Figure size 432x288 with 2 Axes>"
            ]
          },
          "metadata": {
            "needs_background": "light"
          }
        }
      ]
    }
  ]
}